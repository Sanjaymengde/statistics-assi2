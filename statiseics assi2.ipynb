{
 "cells": [
  {
   "cell_type": "code",
   "execution_count": null,
   "id": "e41e59e6-e096-4e83-b614-f915ec41a24a",
   "metadata": {},
   "outputs": [],
   "source": [
    "import pandas as pd"
   ]
  },
  {
   "cell_type": "code",
   "execution_count": null,
   "id": "a7f10696-958d-4476-ab3e-77f46b158722",
   "metadata": {},
   "outputs": [],
   "source": [
    "import numpy as np"
   ]
  },
  {
   "cell_type": "markdown",
   "id": "4382a289-0f93-4426-b158-3e5d6c35bf6e",
   "metadata": {},
   "source": [
    "Q1. What are the three measures of central tendency?"
   ]
  },
  {
   "cell_type": "markdown",
   "id": "97b2cf6d-6878-43ec-bcaa-087899cb0782",
   "metadata": {},
   "source": [
    "Mean,Median,Mode."
   ]
  },
  {
   "cell_type": "markdown",
   "id": "b1530cbc-03d9-49e0-aa51-6c597e28380c",
   "metadata": {},
   "source": [
    "Q2. What is the difference between the mean, median, and mode? How are they used to measure the\n",
    "central tendency of a dataset?"
   ]
  },
  {
   "cell_type": "markdown",
   "id": "be39a537-3515-4ad2-92ef-b871fdaafe1b",
   "metadata": {},
   "source": [
    "Mean is the average value of the given observations. Median is the middle value of the given observations. Mode is the most repeated value in the given observation."
   ]
  },
  {
   "cell_type": "markdown",
   "id": "61e8ee33-ec18-47ee-9271-bd72643aa1b1",
   "metadata": {},
   "source": [
    "Q3. Measure the three measures of central tendency for the given height data:\n",
    "[178,177,176,177,178.2,178,175,179,180,175,178.9,176.2,177,172.5,178,176.5]"
   ]
  },
  {
   "cell_type": "code",
   "execution_count": 6,
   "id": "6b1aa1dd-5052-433a-8cae-a03bd964c5c8",
   "metadata": {},
   "outputs": [],
   "source": [
    "df=[178,177,176,177,178.2,178,175,179,180,175,178.9,176.2,177,172.5,178,176.5]"
   ]
  },
  {
   "cell_type": "code",
   "execution_count": 5,
   "id": "83d2b314-479b-4125-bfec-89ee298f2433",
   "metadata": {},
   "outputs": [
    {
     "data": {
      "text/plain": [
       "177.01875"
      ]
     },
     "execution_count": 5,
     "metadata": {},
     "output_type": "execute_result"
    }
   ],
   "source": [
    "np.mean(df)"
   ]
  },
  {
   "cell_type": "code",
   "execution_count": 6,
   "id": "9a80b7ba-b66c-4483-97f7-21b3c81f2fb5",
   "metadata": {},
   "outputs": [
    {
     "data": {
      "text/plain": [
       "177.0"
      ]
     },
     "execution_count": 6,
     "metadata": {},
     "output_type": "execute_result"
    }
   ],
   "source": [
    "np.median(df)"
   ]
  },
  {
   "cell_type": "code",
   "execution_count": 13,
   "id": "346f1d2f-f7a5-4f5a-86ac-f90606877310",
   "metadata": {},
   "outputs": [],
   "source": [
    "from scipy import stats"
   ]
  },
  {
   "cell_type": "code",
   "execution_count": 15,
   "id": "1da65202-a739-49af-ae3c-24f88bdff8b3",
   "metadata": {},
   "outputs": [
    {
     "name": "stderr",
     "output_type": "stream",
     "text": [
      "/tmp/ipykernel_2011/4235401754.py:1: FutureWarning: Unlike other reduction functions (e.g. `skew`, `kurtosis`), the default behavior of `mode` typically preserves the axis it acts along. In SciPy 1.11.0, this behavior will change: the default value of `keepdims` will become False, the `axis` over which the statistic is taken will be eliminated, and the value None will no longer be accepted. Set `keepdims` to True or False to avoid this warning.\n",
      "  stats.mode(df)\n"
     ]
    },
    {
     "data": {
      "text/plain": [
       "ModeResult(mode=array([177.]), count=array([3]))"
      ]
     },
     "execution_count": 15,
     "metadata": {},
     "output_type": "execute_result"
    }
   ],
   "source": [
    "stats.mode(df)"
   ]
  },
  {
   "cell_type": "markdown",
   "id": "ec579da8-b336-4494-a080-30b998d28a28",
   "metadata": {},
   "source": [
    "Q4. Find the standard deviation for the given data:\n",
    "[178,177,176,177,178.2,178,175,179,180,175,178.9,176.2,177,172.5,178,176.5]"
   ]
  },
  {
   "cell_type": "code",
   "execution_count": 2,
   "id": "203cf516-5a2d-4c96-8fab-d9c79c50f7c1",
   "metadata": {},
   "outputs": [],
   "source": [
    "df1=[178,177,176,177,178.2,178,175,179,180,175,178.9,176.2,177,172.5,178,176.5]"
   ]
  },
  {
   "cell_type": "code",
   "execution_count": 23,
   "id": "2a0c59fe-e2c2-4ea2-a625-e4aff7d81fa4",
   "metadata": {},
   "outputs": [
    {
     "data": {
      "text/plain": [
       "1.7885814036548633"
      ]
     },
     "execution_count": 23,
     "metadata": {},
     "output_type": "execute_result"
    }
   ],
   "source": [
    "np.std(df1)"
   ]
  },
  {
   "cell_type": "markdown",
   "id": "ddeb0ec8-0802-4de6-a278-296eab8a698f",
   "metadata": {},
   "source": [
    "Q5. How are measures of dispersion such as range, variance, and standard deviation used to describe\n",
    "the spread of a dataset? Provide an example."
   ]
  },
  {
   "cell_type": "markdown",
   "id": "9b2ce3ba-3a95-4974-bc4f-863fe27d72b0",
   "metadata": {},
   "source": [
    "by using numpy we can measure  dispersion such as range, variance, and standard deviation."
   ]
  },
  {
   "cell_type": "code",
   "execution_count": 12,
   "id": "a0b4d46d-7578-4845-9835-2e14b8cd43a3",
   "metadata": {},
   "outputs": [
    {
     "data": {
      "text/plain": [
       "1.7885814036548633"
      ]
     },
     "execution_count": 12,
     "metadata": {},
     "output_type": "execute_result"
    }
   ],
   "source": [
    "np.std(df1)"
   ]
  },
  {
   "cell_type": "code",
   "execution_count": 14,
   "id": "a8b9ec6b-6a89-4705-9086-9da3fe1abf03",
   "metadata": {},
   "outputs": [
    {
     "data": {
      "text/plain": [
       "array(3.41229167)"
      ]
     },
     "execution_count": 14,
     "metadata": {},
     "output_type": "execute_result"
    }
   ],
   "source": [
    "np.cov(df1)"
   ]
  },
  {
   "cell_type": "code",
   "execution_count": 15,
   "id": "6f7a619b-0141-4322-ace5-1d15065d0baf",
   "metadata": {},
   "outputs": [
    {
     "data": {
      "text/plain": [
       "3.199023437500001"
      ]
     },
     "execution_count": 15,
     "metadata": {},
     "output_type": "execute_result"
    }
   ],
   "source": [
    "np.var(df1)"
   ]
  },
  {
   "cell_type": "markdown",
   "id": "33d853e9-1f38-453f-aa02-e6bfdf8ef885",
   "metadata": {},
   "source": [
    "Q6. What is a Venn diagram?"
   ]
  },
  {
   "cell_type": "markdown",
   "id": "fada7bdf-6e86-40ce-936b-e2a3c6e81e70",
   "metadata": {},
   "source": [
    "A Venn diagram is an illustration that uses circles to show the relationships among things or finite groups of things."
   ]
  },
  {
   "cell_type": "markdown",
   "id": "18813e9d-5992-4d99-a85d-7ae9dabc2dff",
   "metadata": {},
   "source": [
    "Q7. For the two given sets A = (2,3,4,5,6,7) & B = (0,2,6,8,10). Find:"
   ]
  },
  {
   "cell_type": "markdown",
   "id": "31b4a419-ed76-4419-8c3f-fe9b14c0734d",
   "metadata": {},
   "source": [
    "(i) A ⋃ B"
   ]
  },
  {
   "cell_type": "code",
   "execution_count": 16,
   "id": "2015574b-633b-4263-8209-470539c4fecb",
   "metadata": {},
   "outputs": [
    {
     "data": {
      "text/plain": [
       "(0, 2, 3, 4, 5, 6, 7, 8, 10)"
      ]
     },
     "execution_count": 16,
     "metadata": {},
     "output_type": "execute_result"
    }
   ],
   "source": [
    "0,2,3,4,5,6,7,8,10"
   ]
  },
  {
   "cell_type": "markdown",
   "id": "4649ce64-078d-4910-8ac0-e41636a2bd2a",
   "metadata": {},
   "source": [
    "(i) A INTERSECTION B"
   ]
  },
  {
   "cell_type": "markdown",
   "id": "ef5a43e1-0d99-458e-8fb1-b705298cc1ac",
   "metadata": {},
   "source": [
    "2,6"
   ]
  },
  {
   "cell_type": "markdown",
   "id": "3633f539-bbc2-4273-8a8e-60181b1dfc4e",
   "metadata": {},
   "source": [
    "Q8. What do you understand about skewness in data?"
   ]
  },
  {
   "cell_type": "markdown",
   "id": "f76e78f8-f4be-4d90-b1d8-512e379c943e",
   "metadata": {},
   "source": [
    "Skewness is a statistical measure that is used to show whether a distribution is distorted or asymmetrical. "
   ]
  },
  {
   "cell_type": "markdown",
   "id": "dcd28ec0-375f-4f9a-8a86-3f0faf86adee",
   "metadata": {},
   "source": [
    "Q9. If a data is right skewed then what will be the position of median with respect to mean?"
   ]
  },
  {
   "cell_type": "markdown",
   "id": "ccdccf87-ba5d-4e00-b8ad-b3b39fca74ea",
   "metadata": {},
   "source": [
    "median is greater than mean."
   ]
  },
  {
   "cell_type": "markdown",
   "id": "4700990a-ee45-406d-945c-5451447b0237",
   "metadata": {},
   "source": [
    "Q10. Explain the difference between covariance and correlation. How are these measures used in\n",
    "statistical analysis?"
   ]
  },
  {
   "cell_type": "markdown",
   "id": "66a29e7b-f4b7-4f08-83c1-005e6e857a86",
   "metadata": {},
   "source": [
    "both covariance and correlation measure the relationship and the dependency between two variables. Covariance indicates the direction of the linear relationship between variables while correlation measures both the strength and direction of the linear relationship between two variables."
   ]
  },
  {
   "cell_type": "markdown",
   "id": "bf7179d9-bdd0-48df-8d8d-b96b0ec4e12e",
   "metadata": {},
   "source": [
    "Q11. What is the formula for calculating the sample mean? Provide an example calculation for a\n",
    "dataset."
   ]
  },
  {
   "cell_type": "markdown",
   "id": "3ffd78a1-e9c3-42ba-ac1b-6f234219e26b",
   "metadata": {},
   "source": [
    "The general formula for calculating the sample mean is given by x̄ = ( Σ xi ) / n."
   ]
  },
  {
   "cell_type": "markdown",
   "id": "3f832687-19af-4bae-8e13-053183877913",
   "metadata": {},
   "source": [
    "Q12. For a normal distribution data what is the relationship between its measure of central tendency?"
   ]
  },
  {
   "cell_type": "markdown",
   "id": "c88f093e-b6ad-48e5-a82a-c6fafa04f081",
   "metadata": {},
   "source": [
    "In a normal distribution, data is symmetrically distributed with no skew. Most values cluster around a central region, with values tapering off as they go further away from the center. The mean, mode and median are exactly the same in a normal distribution."
   ]
  },
  {
   "cell_type": "markdown",
   "id": "ef0da4a9-74d1-4375-8a66-617c16f81ba5",
   "metadata": {},
   "source": [
    "Q13. How is covariance different from correlation?"
   ]
  },
  {
   "cell_type": "markdown",
   "id": "c5439efd-b721-41b5-8427-4355282f78b3",
   "metadata": {},
   "source": [
    "Both covariance and correlation measure the relationship and the dependency between two variables. Covariance indicates the direction of the linear relationship between variables. Correlation measures both the strength and direction of the linear relationship between two variables."
   ]
  },
  {
   "cell_type": "markdown",
   "id": "99b10953-24ca-4ad4-b952-1864600b4ef5",
   "metadata": {},
   "source": [
    "Q14. How do outliers affect measures of central tendency and dispersion? Provide an example."
   ]
  },
  {
   "cell_type": "markdown",
   "id": "f365abfc-cc68-49f4-8bf7-c0a00a1004f2",
   "metadata": {},
   "source": [
    "It affect by generating big difference in median."
   ]
  },
  {
   "cell_type": "code",
   "execution_count": 17,
   "id": "e33abbea-2fb8-4f89-8be7-46d27acb8d39",
   "metadata": {},
   "outputs": [],
   "source": [
    "A=[2,4,6,8,10]"
   ]
  },
  {
   "cell_type": "code",
   "execution_count": 18,
   "id": "518043dd-a569-4168-b848-218914449dd6",
   "metadata": {},
   "outputs": [
    {
     "data": {
      "text/plain": [
       "6.0"
      ]
     },
     "execution_count": 18,
     "metadata": {},
     "output_type": "execute_result"
    }
   ],
   "source": [
    "np.median(A)"
   ]
  },
  {
   "cell_type": "code",
   "execution_count": null,
   "id": "abcf25c9-2413-4649-b0d1-36c47eb051a6",
   "metadata": {},
   "outputs": [],
   "source": []
  }
 ],
 "metadata": {
  "kernelspec": {
   "display_name": "Python 3 (ipykernel)",
   "language": "python",
   "name": "python3"
  },
  "language_info": {
   "codemirror_mode": {
    "name": "ipython",
    "version": 3
   },
   "file_extension": ".py",
   "mimetype": "text/x-python",
   "name": "python",
   "nbconvert_exporter": "python",
   "pygments_lexer": "ipython3",
   "version": "3.10.8"
  }
 },
 "nbformat": 4,
 "nbformat_minor": 5
}
